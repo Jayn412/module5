{
 "cells": [
  {
   "cell_type": "markdown",
   "metadata": {
    "id": "CcUT6Fon_qRE"
   },
   "source": [
    "### Required Assignment 5.1: Will the Customer Accept the Coupon?\n",
    "\n",
    "**Context**\n",
    "\n",
    "Imagine driving through town and a coupon is delivered to your cell phone for a restaurant near where you are driving. Would you accept that coupon and take a short detour to the restaurant? Would you accept the coupon but use it on a subsequent trip? Would you ignore the coupon entirely? What if the coupon was for a bar instead of a restaurant? What about a coffee house? Would you accept a bar coupon with a minor passenger in the car? What about if it was just you and your partner in the car? Would weather impact the rate of acceptance? What about the time of day?\n",
    "\n",
    "Obviously, proximity to the business is a factor on whether the coupon is delivered to the driver or not, but what are the factors that determine whether a driver accepts the coupon once it is delivered to them? How would you determine whether a driver is likely to accept a coupon?\n",
    "\n",
    "**Overview**\n",
    "\n",
    "The goal of this project is to use what you know about visualizations and probability distributions to distinguish between customers who accepted a driving coupon versus those that did not.\n",
    "\n",
    "**Data**\n",
    "\n",
    "This data comes to us from the UCI Machine Learning repository and was collected via a survey on Amazon Mechanical Turk. The survey describes different driving scenarios including the destination, current time, weather, passenger, etc., and then ask the person whether he will accept the coupon if he is the driver. Answers that the user will drive there ‘right away’ or ‘later before the coupon expires’ are labeled as ‘Y = 1’ and answers ‘no, I do not want the coupon’ are labeled as ‘Y = 0’.  There are five different types of coupons -- less expensive restaurants (under \\$20), coffee houses, carry out & take away, bar, and more expensive restaurants (\\$20 - $50)."
   ]
  },
  {
   "cell_type": "markdown",
   "metadata": {
    "id": "1wORvMBJ_qRF"
   },
   "source": [
    "**Deliverables**\n",
    "\n",
    "Your final product should be a brief report that highlights the differences between customers who did and did not accept the coupons.  To explore the data you will utilize your knowledge of plotting, statistical summaries, and visualization using Python. You will publish your findings in a public facing github repository as your first portfolio piece.\n",
    "\n",
    "\n",
    "\n"
   ]
  },
  {
   "cell_type": "markdown",
   "metadata": {
    "id": "pG6_Ym6q_qRG"
   },
   "source": [
    "### Data Description\n",
    "Keep in mind that these values mentioned below are average values.\n",
    "\n",
    "The attributes of this data set include:\n",
    "1. User attributes\n",
    "    -  Gender: male, female\n",
    "    -  Age: below 21, 21 to 25, 26 to 30, etc.\n",
    "    -  Marital Status: single, married partner, unmarried partner, or widowed\n",
    "    -  Number of children: 0, 1, or more than 1\n",
    "    -  Education: high school, bachelors degree, associates degree, or graduate degree\n",
    "    -  Occupation: architecture & engineering, business & financial, etc.\n",
    "    -  Annual income: less than \\\\$12500, \\\\$12500 - \\\\$24999, \\\\$25000 - \\\\$37499, etc.\n",
    "    -  Number of times that he/she goes to a bar: 0, less than 1, 1 to 3, 4 to 8 or greater than 8\n",
    "    -  Number of times that he/she buys takeaway food: 0, less than 1, 1 to 3, 4 to 8 or greater\n",
    "    than 8\n",
    "    -  Number of times that he/she goes to a coffee house: 0, less than 1, 1 to 3, 4 to 8 or\n",
    "    greater than 8\n",
    "    -  Number of times that he/she eats at a restaurant with average expense less than \\\\$20 per\n",
    "    person: 0, less than 1, 1 to 3, 4 to 8 or greater than 8\n",
    "    -  Number of times that he/she goes to a bar: 0, less than 1, 1 to 3, 4 to 8 or greater than 8\n",
    "    \n",
    "\n",
    "2. Contextual attributes\n",
    "    - Driving destination: home, work, or no urgent destination\n",
    "    - Location of user, coupon and destination: we provide a map to show the geographical\n",
    "    location of the user, destination, and the venue, and we mark the distance between each\n",
    "    two places with time of driving. The user can see whether the venue is in the same\n",
    "    direction as the destination.\n",
    "    - Weather: sunny, rainy, or snowy\n",
    "    - Temperature: 30F, 55F, or 80F\n",
    "    - Time: 10AM, 2PM, or 6PM\n",
    "    - Passenger: alone, partner, kid(s), or friend(s)\n",
    "\n",
    "\n",
    "3. Coupon attributes\n",
    "    - time before it expires: 2 hours or one day"
   ]
  },
  {
   "cell_type": "code",
   "execution_count": 2,
   "metadata": {
    "id": "dzNoP3o__qRG"
   },
   "outputs": [],
   "source": [
    "import matplotlib.pyplot as plt\n",
    "import seaborn as sns\n",
    "import pandas as pd\n",
    "import numpy as np"
   ]
  },
  {
   "cell_type": "markdown",
   "metadata": {
    "id": "Ct8pI1uE_qRG"
   },
   "source": [
    "### Problems\n",
    "\n",
    "Use the prompts below to get started with your data analysis.  \n",
    "\n",
    "1. Read in the `coupons.csv` file.\n",
    "\n",
    "\n"
   ]
  },
  {
   "cell_type": "code",
   "execution_count": 4,
   "metadata": {
    "id": "X0vbffYg_qRH"
   },
   "outputs": [],
   "source": [
    "data = pd.read_csv('data/coupons.csv')"
   ]
  },
  {
   "cell_type": "code",
   "execution_count": 6,
   "metadata": {
    "id": "TXofQ_DF_qRH",
    "outputId": "2fc96a2c-1112-4b54-f24f-dbb9bc88abfb"
   },
   "outputs": [
    {
     "data": {
      "text/html": [
       "<div>\n",
       "<style scoped>\n",
       "    .dataframe tbody tr th:only-of-type {\n",
       "        vertical-align: middle;\n",
       "    }\n",
       "\n",
       "    .dataframe tbody tr th {\n",
       "        vertical-align: top;\n",
       "    }\n",
       "\n",
       "    .dataframe thead th {\n",
       "        text-align: right;\n",
       "    }\n",
       "</style>\n",
       "<table border=\"1\" class=\"dataframe\">\n",
       "  <thead>\n",
       "    <tr style=\"text-align: right;\">\n",
       "      <th></th>\n",
       "      <th>destination</th>\n",
       "      <th>passanger</th>\n",
       "      <th>weather</th>\n",
       "      <th>temperature</th>\n",
       "      <th>time</th>\n",
       "      <th>coupon</th>\n",
       "      <th>expiration</th>\n",
       "      <th>gender</th>\n",
       "      <th>age</th>\n",
       "      <th>maritalStatus</th>\n",
       "      <th>...</th>\n",
       "      <th>CoffeeHouse</th>\n",
       "      <th>CarryAway</th>\n",
       "      <th>RestaurantLessThan20</th>\n",
       "      <th>Restaurant20To50</th>\n",
       "      <th>toCoupon_GEQ5min</th>\n",
       "      <th>toCoupon_GEQ15min</th>\n",
       "      <th>toCoupon_GEQ25min</th>\n",
       "      <th>direction_same</th>\n",
       "      <th>direction_opp</th>\n",
       "      <th>Y</th>\n",
       "    </tr>\n",
       "  </thead>\n",
       "  <tbody>\n",
       "    <tr>\n",
       "      <th>0</th>\n",
       "      <td>No Urgent Place</td>\n",
       "      <td>Alone</td>\n",
       "      <td>Sunny</td>\n",
       "      <td>55</td>\n",
       "      <td>2PM</td>\n",
       "      <td>Restaurant(&lt;20)</td>\n",
       "      <td>1d</td>\n",
       "      <td>Female</td>\n",
       "      <td>21</td>\n",
       "      <td>Unmarried partner</td>\n",
       "      <td>...</td>\n",
       "      <td>never</td>\n",
       "      <td>NaN</td>\n",
       "      <td>4~8</td>\n",
       "      <td>1~3</td>\n",
       "      <td>1</td>\n",
       "      <td>0</td>\n",
       "      <td>0</td>\n",
       "      <td>0</td>\n",
       "      <td>1</td>\n",
       "      <td>1</td>\n",
       "    </tr>\n",
       "    <tr>\n",
       "      <th>1</th>\n",
       "      <td>No Urgent Place</td>\n",
       "      <td>Friend(s)</td>\n",
       "      <td>Sunny</td>\n",
       "      <td>80</td>\n",
       "      <td>10AM</td>\n",
       "      <td>Coffee House</td>\n",
       "      <td>2h</td>\n",
       "      <td>Female</td>\n",
       "      <td>21</td>\n",
       "      <td>Unmarried partner</td>\n",
       "      <td>...</td>\n",
       "      <td>never</td>\n",
       "      <td>NaN</td>\n",
       "      <td>4~8</td>\n",
       "      <td>1~3</td>\n",
       "      <td>1</td>\n",
       "      <td>0</td>\n",
       "      <td>0</td>\n",
       "      <td>0</td>\n",
       "      <td>1</td>\n",
       "      <td>0</td>\n",
       "    </tr>\n",
       "    <tr>\n",
       "      <th>2</th>\n",
       "      <td>No Urgent Place</td>\n",
       "      <td>Friend(s)</td>\n",
       "      <td>Sunny</td>\n",
       "      <td>80</td>\n",
       "      <td>10AM</td>\n",
       "      <td>Carry out &amp; Take away</td>\n",
       "      <td>2h</td>\n",
       "      <td>Female</td>\n",
       "      <td>21</td>\n",
       "      <td>Unmarried partner</td>\n",
       "      <td>...</td>\n",
       "      <td>never</td>\n",
       "      <td>NaN</td>\n",
       "      <td>4~8</td>\n",
       "      <td>1~3</td>\n",
       "      <td>1</td>\n",
       "      <td>1</td>\n",
       "      <td>0</td>\n",
       "      <td>0</td>\n",
       "      <td>1</td>\n",
       "      <td>1</td>\n",
       "    </tr>\n",
       "    <tr>\n",
       "      <th>3</th>\n",
       "      <td>No Urgent Place</td>\n",
       "      <td>Friend(s)</td>\n",
       "      <td>Sunny</td>\n",
       "      <td>80</td>\n",
       "      <td>2PM</td>\n",
       "      <td>Coffee House</td>\n",
       "      <td>2h</td>\n",
       "      <td>Female</td>\n",
       "      <td>21</td>\n",
       "      <td>Unmarried partner</td>\n",
       "      <td>...</td>\n",
       "      <td>never</td>\n",
       "      <td>NaN</td>\n",
       "      <td>4~8</td>\n",
       "      <td>1~3</td>\n",
       "      <td>1</td>\n",
       "      <td>1</td>\n",
       "      <td>0</td>\n",
       "      <td>0</td>\n",
       "      <td>1</td>\n",
       "      <td>0</td>\n",
       "    </tr>\n",
       "    <tr>\n",
       "      <th>4</th>\n",
       "      <td>No Urgent Place</td>\n",
       "      <td>Friend(s)</td>\n",
       "      <td>Sunny</td>\n",
       "      <td>80</td>\n",
       "      <td>2PM</td>\n",
       "      <td>Coffee House</td>\n",
       "      <td>1d</td>\n",
       "      <td>Female</td>\n",
       "      <td>21</td>\n",
       "      <td>Unmarried partner</td>\n",
       "      <td>...</td>\n",
       "      <td>never</td>\n",
       "      <td>NaN</td>\n",
       "      <td>4~8</td>\n",
       "      <td>1~3</td>\n",
       "      <td>1</td>\n",
       "      <td>1</td>\n",
       "      <td>0</td>\n",
       "      <td>0</td>\n",
       "      <td>1</td>\n",
       "      <td>0</td>\n",
       "    </tr>\n",
       "  </tbody>\n",
       "</table>\n",
       "<p>5 rows × 26 columns</p>\n",
       "</div>"
      ],
      "text/plain": [
       "       destination  passanger weather  temperature  time  \\\n",
       "0  No Urgent Place      Alone   Sunny           55   2PM   \n",
       "1  No Urgent Place  Friend(s)   Sunny           80  10AM   \n",
       "2  No Urgent Place  Friend(s)   Sunny           80  10AM   \n",
       "3  No Urgent Place  Friend(s)   Sunny           80   2PM   \n",
       "4  No Urgent Place  Friend(s)   Sunny           80   2PM   \n",
       "\n",
       "                  coupon expiration  gender age      maritalStatus  ...  \\\n",
       "0        Restaurant(<20)         1d  Female  21  Unmarried partner  ...   \n",
       "1           Coffee House         2h  Female  21  Unmarried partner  ...   \n",
       "2  Carry out & Take away         2h  Female  21  Unmarried partner  ...   \n",
       "3           Coffee House         2h  Female  21  Unmarried partner  ...   \n",
       "4           Coffee House         1d  Female  21  Unmarried partner  ...   \n",
       "\n",
       "   CoffeeHouse CarryAway RestaurantLessThan20 Restaurant20To50  \\\n",
       "0        never       NaN                  4~8              1~3   \n",
       "1        never       NaN                  4~8              1~3   \n",
       "2        never       NaN                  4~8              1~3   \n",
       "3        never       NaN                  4~8              1~3   \n",
       "4        never       NaN                  4~8              1~3   \n",
       "\n",
       "  toCoupon_GEQ5min toCoupon_GEQ15min toCoupon_GEQ25min direction_same  \\\n",
       "0                1                 0                 0              0   \n",
       "1                1                 0                 0              0   \n",
       "2                1                 1                 0              0   \n",
       "3                1                 1                 0              0   \n",
       "4                1                 1                 0              0   \n",
       "\n",
       "  direction_opp  Y  \n",
       "0             1  1  \n",
       "1             1  0  \n",
       "2             1  1  \n",
       "3             1  0  \n",
       "4             1  0  \n",
       "\n",
       "[5 rows x 26 columns]"
      ]
     },
     "execution_count": 6,
     "metadata": {},
     "output_type": "execute_result"
    }
   ],
   "source": [
    "data.head()"
   ]
  },
  {
   "cell_type": "markdown",
   "metadata": {
    "id": "GcDs78ZH_qRH"
   },
   "source": [
    "2. Investigate the dataset for missing or problematic data."
   ]
  },
  {
   "cell_type": "code",
   "execution_count": 16,
   "metadata": {
    "id": "6CwL6oWj_qRH"
   },
   "outputs": [
    {
     "name": "stdout",
     "output_type": "stream",
     "text": [
      "destination                 0\n",
      "passanger                   0\n",
      "weather                     0\n",
      "temperature                 0\n",
      "time                        0\n",
      "coupon                      0\n",
      "expiration                  0\n",
      "gender                      0\n",
      "age                         0\n",
      "maritalStatus               0\n",
      "has_children                0\n",
      "education                   0\n",
      "occupation                  0\n",
      "income                      0\n",
      "car                     12576\n",
      "Bar                       107\n",
      "CoffeeHouse               217\n",
      "CarryAway                 151\n",
      "RestaurantLessThan20      130\n",
      "Restaurant20To50          189\n",
      "toCoupon_GEQ5min            0\n",
      "toCoupon_GEQ15min           0\n",
      "toCoupon_GEQ25min           0\n",
      "direction_same              0\n",
      "direction_opp               0\n",
      "Y                           0\n",
      "dtype: int64\n",
      "destination              0.000000\n",
      "passanger                0.000000\n",
      "weather                  0.000000\n",
      "temperature              0.000000\n",
      "time                     0.000000\n",
      "coupon                   0.000000\n",
      "expiration               0.000000\n",
      "gender                   0.000000\n",
      "age                      0.000000\n",
      "maritalStatus            0.000000\n",
      "has_children             0.000000\n",
      "education                0.000000\n",
      "occupation               0.000000\n",
      "income                   0.000000\n",
      "car                     99.148534\n",
      "Bar                      0.843582\n",
      "CoffeeHouse              1.710817\n",
      "CarryAway                1.190476\n",
      "RestaurantLessThan20     1.024913\n",
      "Restaurant20To50         1.490066\n",
      "toCoupon_GEQ5min         0.000000\n",
      "toCoupon_GEQ15min        0.000000\n",
      "toCoupon_GEQ25min        0.000000\n",
      "direction_same           0.000000\n",
      "direction_opp            0.000000\n",
      "Y                        0.000000\n",
      "dtype: float64\n",
      "           destination  passanger weather  temperature  time  \\\n",
      "0      No Urgent Place      Alone   Sunny           55   2PM   \n",
      "1      No Urgent Place  Friend(s)   Sunny           80  10AM   \n",
      "2      No Urgent Place  Friend(s)   Sunny           80  10AM   \n",
      "3      No Urgent Place  Friend(s)   Sunny           80   2PM   \n",
      "4      No Urgent Place  Friend(s)   Sunny           80   2PM   \n",
      "...                ...        ...     ...          ...   ...   \n",
      "12679             Home    Partner   Rainy           55   6PM   \n",
      "12680             Work      Alone   Rainy           55   7AM   \n",
      "12681             Work      Alone   Snowy           30   7AM   \n",
      "12682             Work      Alone   Snowy           30   7AM   \n",
      "12683             Work      Alone   Sunny           80   7AM   \n",
      "\n",
      "                      coupon expiration  gender age      maritalStatus  ...  \\\n",
      "0            Restaurant(<20)         1d  Female  21  Unmarried partner  ...   \n",
      "1               Coffee House         2h  Female  21  Unmarried partner  ...   \n",
      "2      Carry out & Take away         2h  Female  21  Unmarried partner  ...   \n",
      "3               Coffee House         2h  Female  21  Unmarried partner  ...   \n",
      "4               Coffee House         1d  Female  21  Unmarried partner  ...   \n",
      "...                      ...        ...     ...  ..                ...  ...   \n",
      "12679  Carry out & Take away         1d    Male  26             Single  ...   \n",
      "12680  Carry out & Take away         1d    Male  26             Single  ...   \n",
      "12681           Coffee House         1d    Male  26             Single  ...   \n",
      "12682                    Bar         1d    Male  26             Single  ...   \n",
      "12683      Restaurant(20-50)         2h    Male  26             Single  ...   \n",
      "\n",
      "       CoffeeHouse CarryAway RestaurantLessThan20 Restaurant20To50  \\\n",
      "0            never       NaN                  4~8              1~3   \n",
      "1            never       NaN                  4~8              1~3   \n",
      "2            never       NaN                  4~8              1~3   \n",
      "3            never       NaN                  4~8              1~3   \n",
      "4            never       NaN                  4~8              1~3   \n",
      "...            ...       ...                  ...              ...   \n",
      "12679        never       1~3                  4~8              1~3   \n",
      "12680        never       1~3                  4~8              1~3   \n",
      "12681        never       1~3                  4~8              1~3   \n",
      "12682        never       1~3                  4~8              1~3   \n",
      "12683        never       1~3                  4~8              1~3   \n",
      "\n",
      "      toCoupon_GEQ5min toCoupon_GEQ15min toCoupon_GEQ25min direction_same  \\\n",
      "0                    1                 0                 0              0   \n",
      "1                    1                 0                 0              0   \n",
      "2                    1                 1                 0              0   \n",
      "3                    1                 1                 0              0   \n",
      "4                    1                 1                 0              0   \n",
      "...                ...               ...               ...            ...   \n",
      "12679                1                 0                 0              1   \n",
      "12680                1                 0                 0              0   \n",
      "12681                1                 0                 0              1   \n",
      "12682                1                 1                 1              0   \n",
      "12683                1                 0                 0              1   \n",
      "\n",
      "      direction_opp  Y  \n",
      "0                 1  1  \n",
      "1                 1  0  \n",
      "2                 1  1  \n",
      "3                 1  0  \n",
      "4                 1  0  \n",
      "...             ... ..  \n",
      "12679             0  1  \n",
      "12680             1  1  \n",
      "12681             0  0  \n",
      "12682             1  0  \n",
      "12683             0  0  \n",
      "\n",
      "[12576 rows x 26 columns]\n"
     ]
    }
   ],
   "source": [
    "# Check for missing data in each column\n",
    "missing_data = data.isnull().sum()\n",
    "\n",
    "# Display the missing data counts\n",
    "print(missing_data)\n",
    "\n",
    "# Calculate percentage of missing data\n",
    "missing_percentage = (data.isnull().sum() / len(data)) * 100\n",
    "\n",
    "# Display the percentage of missing data\n",
    "print(missing_percentage)\n",
    "# Check how many rows have missing data\n",
    "missing_rows = data[data.isnull().any(axis=1)]\n",
    "\n",
    "# Display rows with missing data\n",
    "print(missing_rows)"
   ]
  },
  {
   "cell_type": "markdown",
   "metadata": {
    "id": "bSdVSpYB_qRH"
   },
   "source": [
    "3. Decide what to do about your missing data -- drop, replace, other..."
   ]
  },
  {
   "cell_type": "code",
   "execution_count": 26,
   "metadata": {
    "id": "tyvoAC5F_qRI"
   },
   "outputs": [
    {
     "name": "stdout",
     "output_type": "stream",
     "text": [
      "     destination passanger weather  temperature  time                 coupon  \\\n",
      "4192        Work     Alone   Sunny           80   7AM  Carry out & Take away   \n",
      "4236        Work     Alone   Sunny           80   7AM  Carry out & Take away   \n",
      "4280        Work     Alone   Sunny           80   7AM  Carry out & Take away   \n",
      "4324        Work     Alone   Sunny           80   7AM  Carry out & Take away   \n",
      "4409        Work     Alone   Sunny           80   7AM  Carry out & Take away   \n",
      "...          ...       ...     ...          ...   ...                    ...   \n",
      "8511        Home     Alone   Sunny           80   6PM                    Bar   \n",
      "8512        Home   Partner   Sunny           30  10PM  Carry out & Take away   \n",
      "8513        Work     Alone   Rainy           55   7AM        Restaurant(<20)   \n",
      "8515        Work     Alone   Snowy           30   7AM      Restaurant(20-50)   \n",
      "8516        Work     Alone   Sunny           80   7AM        Restaurant(<20)   \n",
      "\n",
      "     expiration  gender age    maritalStatus  ...  CoffeeHouse CarryAway  \\\n",
      "4192         1d    Male  26           Single  ...        never       1~3   \n",
      "4236         1d    Male  26           Single  ...          gt8       gt8   \n",
      "4280         1d  Female  26           Single  ...        never       4~8   \n",
      "4324         1d  Female  46           Single  ...        never       4~8   \n",
      "4409         1d  Female  21           Single  ...        never     less1   \n",
      "...         ...     ...  ..              ...  ...          ...       ...   \n",
      "8511         2h    Male  46  Married partner  ...          1~3       1~3   \n",
      "8512         2h    Male  46  Married partner  ...          1~3       1~3   \n",
      "8513         2h    Male  46  Married partner  ...          1~3       1~3   \n",
      "8515         1d    Male  46  Married partner  ...          1~3       1~3   \n",
      "8516         1d    Male  46  Married partner  ...          1~3       1~3   \n",
      "\n",
      "     RestaurantLessThan20 Restaurant20To50 toCoupon_GEQ5min toCoupon_GEQ15min  \\\n",
      "4192                less1            less1                1                 1   \n",
      "4236                  4~8            less1                1                 1   \n",
      "4280                  1~3            less1                1                 1   \n",
      "4324                  1~3              1~3                1                 1   \n",
      "4409                  1~3            never                1                 1   \n",
      "...                   ...              ...              ...               ...   \n",
      "8511                less1              1~3                1                 0   \n",
      "8512                less1              1~3                1                 1   \n",
      "8513                less1              1~3                1                 1   \n",
      "8515                less1              1~3                1                 1   \n",
      "8516                less1              1~3                1                 0   \n",
      "\n",
      "     toCoupon_GEQ25min direction_same direction_opp  Y  \n",
      "4192                 1              0             1  1  \n",
      "4236                 1              0             1  1  \n",
      "4280                 1              0             1  1  \n",
      "4324                 1              0             1  1  \n",
      "4409                 1              0             1  0  \n",
      "...                ...            ...           ... ..  \n",
      "8511                 0              1             0  1  \n",
      "8512                 0              0             1  1  \n",
      "8513                 1              0             1  0  \n",
      "8515                 1              0             1  0  \n",
      "8516                 0              1             0  1  \n",
      "\n",
      "[74 rows x 26 columns]\n"
     ]
    }
   ],
   "source": [
    "# Drop rows with any missing values\n",
    "data_cleaned = data.dropna()\n",
    "\n",
    "#fill with a specific value, like 0 or 'Unknown'\n",
    "data_filled = data.fillna(0)  # For numerical columns\n",
    "data_filled = data.fillna(\"Unknown\")  # For categorical columns\n",
    "\n",
    "# Check for duplicate rows\n",
    "duplicates = data[data.duplicated()]\n",
    "\n",
    "# Display duplicates\n",
    "print(duplicates)\n",
    "\n",
    "# Remove duplicate rows\n",
    "data_no_duplicates = data.drop_duplicates()\n"
   ]
  },
  {
   "cell_type": "markdown",
   "metadata": {
    "id": "YE6oJbXd_qRI"
   },
   "source": [
    "4. What proportion of the total observations chose to accept the coupon?\n",
    "\n"
   ]
  },
  {
   "cell_type": "code",
   "execution_count": 36,
   "metadata": {
    "id": "86GGqBTv_qRI"
   },
   "outputs": [
    {
     "name": "stdout",
     "output_type": "stream",
     "text": [
      "Index(['destination', 'passanger', 'weather', 'temperature', 'time', 'coupon',\n",
      "       'expiration', 'gender', 'age', 'maritalStatus', 'has_children',\n",
      "       'education', 'occupation', 'income', 'car', 'Bar', 'CoffeeHouse',\n",
      "       'CarryAway', 'RestaurantLessThan20', 'Restaurant20To50',\n",
      "       'toCoupon_GEQ5min', 'toCoupon_GEQ15min', 'toCoupon_GEQ25min',\n",
      "       'direction_same', 'direction_opp', 'Y'],\n",
      "      dtype='object')\n",
      "       destination  passanger weather  temperature  time  \\\n",
      "0  No Urgent Place      Alone   Sunny           55   2PM   \n",
      "1  No Urgent Place  Friend(s)   Sunny           80  10AM   \n",
      "2  No Urgent Place  Friend(s)   Sunny           80  10AM   \n",
      "3  No Urgent Place  Friend(s)   Sunny           80   2PM   \n",
      "4  No Urgent Place  Friend(s)   Sunny           80   2PM   \n",
      "\n",
      "                  coupon expiration  gender age      maritalStatus  ...  \\\n",
      "0        Restaurant(<20)         1d  Female  21  Unmarried partner  ...   \n",
      "1           Coffee House         2h  Female  21  Unmarried partner  ...   \n",
      "2  Carry out & Take away         2h  Female  21  Unmarried partner  ...   \n",
      "3           Coffee House         2h  Female  21  Unmarried partner  ...   \n",
      "4           Coffee House         1d  Female  21  Unmarried partner  ...   \n",
      "\n",
      "   CoffeeHouse CarryAway RestaurantLessThan20 Restaurant20To50  \\\n",
      "0        never       NaN                  4~8              1~3   \n",
      "1        never       NaN                  4~8              1~3   \n",
      "2        never       NaN                  4~8              1~3   \n",
      "3        never       NaN                  4~8              1~3   \n",
      "4        never       NaN                  4~8              1~3   \n",
      "\n",
      "  toCoupon_GEQ5min toCoupon_GEQ15min toCoupon_GEQ25min direction_same  \\\n",
      "0                1                 0                 0              0   \n",
      "1                1                 0                 0              0   \n",
      "2                1                 1                 0              0   \n",
      "3                1                 1                 0              0   \n",
      "4                1                 1                 0              0   \n",
      "\n",
      "  direction_opp  Y  \n",
      "0             1  1  \n",
      "1             1  0  \n",
      "2             1  1  \n",
      "3             1  0  \n",
      "4             1  0  \n",
      "\n",
      "[5 rows x 26 columns]\n",
      "Proportion of accepted coupons: 0.57\n"
     ]
    }
   ],
   "source": [
    "#To calculate the proportion of accepted coupons:\n",
    "# Check if the column exists and preview the first few rows\n",
    "print(data.columns)  # List all column names\n",
    "print(data.head())   # Preview the first few rows\n",
    "\n",
    "# Calculate the proportion of accepted coupons\n",
    "proportion_accepted = data['Y'].mean()\n",
    "\n",
    "# Print the proportion of accepted coupons\n",
    "print(f\"Proportion of accepted coupons: {proportion_accepted:.2f}\")\n"
   ]
  },
  {
   "cell_type": "markdown",
   "metadata": {
    "id": "vflz0DoE_qRI"
   },
   "source": [
    "5. Use a bar plot to visualize the `coupon` column."
   ]
  },
  {
   "cell_type": "code",
   "execution_count": 38,
   "metadata": {
    "id": "dHFh3E45_qRI"
   },
   "outputs": [
    {
     "name": "stderr",
     "output_type": "stream",
     "text": [
      "C:\\Users\\jayan\\AppData\\Local\\Temp\\ipykernel_14616\\4129424228.py:6: FutureWarning: \n",
      "\n",
      "Passing `palette` without assigning `hue` is deprecated and will be removed in v0.14.0. Assign the `x` variable to `hue` and set `legend=False` for the same effect.\n",
      "\n",
      "  sns.barplot(x=coupon_counts.index, y=coupon_counts.values, palette='Set2')\n"
     ]
    },
    {
     "data": {
      "image/png": "[encoded data removed]",
      "text/plain": [
       "<Figure size 800x600 with 1 Axes>"
      ]
     },
     "metadata": {},
     "output_type": "display_data"
    }
   ],
   "source": [
    "# Count the occurrences of each value in the 'coupon_accepted' column\n",
    "coupon_counts = data['Y'].value_counts()\n",
    "\n",
    "# Create the bar plot\n",
    "plt.figure(figsize=(8, 6))\n",
    "sns.barplot(x=coupon_counts.index, y=coupon_counts.values, palette='Set2')\n",
    "\n",
    "# Customize the plot\n",
    "plt.title('Coupon Acceptance Visualization', fontsize=16)\n",
    "plt.xlabel('Coupon Accepted', fontsize=12)\n",
    "plt.ylabel('Count', fontsize=12)\n",
    "plt.xticks([0, 1], ['Not Accepted', 'Accepted'], rotation=0)  # Label the x-axis\n",
    "plt.show()\n"
   ]
  },
  {
   "cell_type": "markdown",
   "metadata": {
    "id": "Qw4lCyx2_qRI"
   },
   "source": [
    "6. Use a histogram to visualize the temperature column."
   ]
  },
  {
   "cell_type": "code",
   "execution_count": 40,
   "metadata": {
    "id": "Yg9Anv71_qRI"
   },
   "outputs": [
    {
     "data": {
      "image/png": "[encoded data removed]",
      "text/plain": [
       "<Figure size 800x600 with 1 Axes>"
      ]
     },
     "metadata": {},
     "output_type": "display_data"
    }
   ],
   "source": [
    "# Using matplot lib\n",
    "plt.figure(figsize=(8, 6))\n",
    "plt.hist(data['temperature'], bins=30, color='skyblue', edgecolor='black')\n",
    "\n",
    "# Customize the plot\n",
    "plt.title('Temperature Distribution', fontsize=16)\n",
    "plt.xlabel('Temperature', fontsize=12)\n",
    "plt.ylabel('Frequency', fontsize=12)\n",
    "plt.grid(True)\n",
    "plt.show()\n"
   ]
  },
  {
   "cell_type": "code",
   "execution_count": 42,
   "metadata": {
    "id": "zLtOaJQk_qRI"
   },
   "outputs": [
    {
     "data": {
      "image/png": "[encoded data removed]",
      "text/plain": [
       "<Figure size 800x600 with 1 Axes>"
      ]
     },
     "metadata": {},
     "output_type": "display_data"
    }
   ],
   "source": [
    "#using seaborn\n",
    "\n",
    "plt.figure(figsize=(8, 6))\n",
    "sns.histplot(data['temperature'], kde=True, color='skyblue', bins=30)\n",
    "\n",
    "# Customize the plot\n",
    "plt.title('Temperature Distribution', fontsize=16)\n",
    "plt.xlabel('Temperature', fontsize=12)\n",
    "plt.ylabel('Frequency', fontsize=12)\n",
    "plt.show()"
   ]
  },
  {
   "cell_type": "code",
   "execution_count": null,
   "metadata": {
    "id": "7GBHZKBp_qRJ"
   },
   "outputs": [],
   "source": []
  },
  {
   "cell_type": "code",
   "execution_count": null,
   "metadata": {
    "id": "Y5nBUA-j_qRJ"
   },
   "outputs": [],
   "source": []
  },
  {
   "cell_type": "code",
   "execution_count": null,
   "metadata": {
    "id": "ShcUC-Vm_qRJ"
   },
   "outputs": [],
   "source": []
  },
  {
   "cell_type": "markdown",
   "metadata": {
    "id": "FupfgeJk_qRJ"
   },
   "source": [
    "**Investigating the Bar Coupons**\n",
    "\n",
    "Now, we will lead you through an exploration of just the bar related coupons.  \n",
    "\n",
    "1. Create a new `DataFrame` that contains just the bar coupons.\n"
   ]
  },
  {
   "cell_type": "code",
   "execution_count": 48,
   "metadata": {
    "id": "tMBlWuGq_qRJ"
   },
   "outputs": [
    {
     "name": "stdout",
     "output_type": "stream",
     "text": [
      "['never' 'less1' '1~3' 'gt8' 'unknown' '4~8']\n",
      "        destination  passanger weather  temperature  time  \\\n",
      "66  No Urgent Place      Alone   Sunny           55   2PM   \n",
      "67  No Urgent Place  Friend(s)   Sunny           80  10AM   \n",
      "68  No Urgent Place  Friend(s)   Sunny           80  10AM   \n",
      "69  No Urgent Place  Friend(s)   Sunny           80   2PM   \n",
      "70  No Urgent Place  Friend(s)   Sunny           80   2PM   \n",
      "\n",
      "                   coupon expiration gender age    maritalStatus  ...  \\\n",
      "66        Restaurant(<20)         1d   Male  46  Married partner  ...   \n",
      "67           Coffee House         2h   Male  46  Married partner  ...   \n",
      "68  Carry out & Take away         2h   Male  46  Married partner  ...   \n",
      "69           Coffee House         2h   Male  46  Married partner  ...   \n",
      "70           Coffee House         1d   Male  46  Married partner  ...   \n",
      "\n",
      "    CoffeeHouse CarryAway RestaurantLessThan20 Restaurant20To50  \\\n",
      "66          1~3       1~3                  1~3            less1   \n",
      "67          1~3       1~3                  1~3            less1   \n",
      "68          1~3       1~3                  1~3            less1   \n",
      "69          1~3       1~3                  1~3            less1   \n",
      "70          1~3       1~3                  1~3            less1   \n",
      "\n",
      "   toCoupon_GEQ5min toCoupon_GEQ15min toCoupon_GEQ25min direction_same  \\\n",
      "66                1                 0                 0              0   \n",
      "67                1                 0                 0              0   \n",
      "68                1                 1                 0              0   \n",
      "69                1                 1                 0              0   \n",
      "70                1                 1                 0              0   \n",
      "\n",
      "   direction_opp  Y  \n",
      "66             1  1  \n",
      "67             1  1  \n",
      "68             1  1  \n",
      "69             1  1  \n",
      "70             1  1  \n",
      "\n",
      "[5 rows x 26 columns]\n"
     ]
    }
   ],
   "source": [
    "# Check unique values in the 'Bar' column to confirm what it represents\n",
    "print(data['Bar'].unique())\n",
    "\n",
    "# Fill NaN values in the 'Bar' column with 'unknown'\n",
    "data['Bar'] = data['Bar'].fillna('unknown')\n",
    "\n",
    "# Now filter the DataFrame\n",
    "bar_coupons = data[data['Bar'] != 'never']\n",
    "\n",
    "# Display the first few rows of the updated DataFrame\n",
    "print(bar_coupons.head())"
   ]
  },
  {
   "cell_type": "markdown",
   "metadata": {
    "id": "8ue6uCqf_qRJ"
   },
   "source": [
    "2. What proportion of bar coupons were accepted?\n"
   ]
  },
  {
   "cell_type": "code",
   "execution_count": 50,
   "metadata": {
    "id": "hSdte8Mi_qRK"
   },
   "outputs": [
    {
     "name": "stdout",
     "output_type": "stream",
     "text": [
      "Proportion of bar coupons accepted: 0.59\n"
     ]
    }
   ],
   "source": [
    "# Filter the bar_coupons DataFrame for rows where the coupon was accepted (Y == 1)\n",
    "accepted_bar_coupons = bar_coupons[bar_coupons['Y'] == 1]\n",
    "\n",
    "# Calculate the proportion of accepted bar coupons\n",
    "proportion_accepted = len(accepted_bar_coupons) / len(bar_coupons)\n",
    "\n",
    "# Display the proportion\n",
    "print(f\"Proportion of bar coupons accepted: {proportion_accepted:.2f}\")\n"
   ]
  },
  {
   "cell_type": "markdown",
   "metadata": {
    "id": "85nA_iEi_qRK"
   },
   "source": [
    "3. Compare the acceptance rate between those who went to a bar 3 or fewer times a month to those who went more.\n"
   ]
  },
  {
   "cell_type": "code",
   "execution_count": 52,
   "metadata": {
    "id": "LBOrN-XM_qRK"
   },
   "outputs": [
    {
     "name": "stdout",
     "output_type": "stream",
     "text": [
      "Acceptance rate for those who went to a bar 3 or fewer times a month: 0.60\n",
      "Acceptance rate for those who went to a bar more than 3 times a month: 0.58\n"
     ]
    }
   ],
   "source": [
    "# First, create two groups based on the 'Bar' column values\n",
    "\n",
    "# Group 1: Bar visits 3 or fewer times a month\n",
    "group_1 = bar_coupons[bar_coupons['Bar'].isin(['never', 'less1', '1~3', '4~8'])]\n",
    "\n",
    "# Group 2: Bar visits more than 3 times a month\n",
    "group_2 = bar_coupons[bar_coupons['Bar'] == 'gt8']\n",
    "\n",
    "# Calculate acceptance rate for Group 1 (those who went to a bar 3 or fewer times)\n",
    "accepted_group_1 = group_1[group_1['Y'] == 1]\n",
    "acceptance_rate_group_1 = len(accepted_group_1) / len(group_1)\n",
    "\n",
    "# Calculate acceptance rate for Group 2 (those who went to a bar more than 3 times)\n",
    "accepted_group_2 = group_2[group_2['Y'] == 1]\n",
    "acceptance_rate_group_2 = len(accepted_group_2) / len(group_2)\n",
    "\n",
    "# Display the results\n",
    "print(f\"Acceptance rate for those who went to a bar 3 or fewer times a month: {acceptance_rate_group_1:.2f}\")\n",
    "print(f\"Acceptance rate for those who went to a bar more than 3 times a month: {acceptance_rate_group_2:.2f}\")\n"
   ]
  },
  {
   "cell_type": "markdown",
   "metadata": {
    "id": "RBgcQwH4_qRK"
   },
   "source": [
    "4. Compare the acceptance rate between drivers who go to a bar more than once a month and are over the age of 25 to the all others.  Is there a difference?\n"
   ]
  },
  {
   "cell_type": "code",
   "execution_count": 112,
   "metadata": {
    "id": "bf28bbeX_qRK"
   },
   "outputs": [
    {
     "name": "stdout",
     "output_type": "stream",
     "text": [
      "['unknown' 'Scooter and motorcycle' 'do not drive']\n",
      "        destination  passanger weather  temperature  time  \\\n",
      "66  No Urgent Place      Alone   Sunny           55   2PM   \n",
      "67  No Urgent Place  Friend(s)   Sunny           80  10AM   \n",
      "68  No Urgent Place  Friend(s)   Sunny           80  10AM   \n",
      "69  No Urgent Place  Friend(s)   Sunny           80   2PM   \n",
      "70  No Urgent Place  Friend(s)   Sunny           80   2PM   \n",
      "\n",
      "                   coupon expiration gender age    maritalStatus  ...  \\\n",
      "66        Restaurant(<20)         1d   Male  46  Married partner  ...   \n",
      "67           Coffee House         2h   Male  46  Married partner  ...   \n",
      "68  Carry out & Take away         2h   Male  46  Married partner  ...   \n",
      "69           Coffee House         2h   Male  46  Married partner  ...   \n",
      "70           Coffee House         1d   Male  46  Married partner  ...   \n",
      "\n",
      "    CoffeeHouse CarryAway RestaurantLessThan20 Restaurant20To50  \\\n",
      "66          1~3       1~3                  1~3            less1   \n",
      "67          1~3       1~3                  1~3            less1   \n",
      "68          1~3       1~3                  1~3            less1   \n",
      "69          1~3       1~3                  1~3            less1   \n",
      "70          1~3       1~3                  1~3            less1   \n",
      "\n",
      "   toCoupon_GEQ5min toCoupon_GEQ15min toCoupon_GEQ25min direction_same  \\\n",
      "66                1                 0                 0              0   \n",
      "67                1                 0                 0              0   \n",
      "68                1                 1                 0              0   \n",
      "69                1                 1                 0              0   \n",
      "70                1                 1                 0              0   \n",
      "\n",
      "   direction_opp  Y  \n",
      "66             1  1  \n",
      "67             1  1  \n",
      "68             1  1  \n",
      "69             1  1  \n",
      "70             1  1  \n",
      "\n",
      "[5 rows x 26 columns]\n",
      "Acceptance rate for drivers who go to a bar more than once a month and are over 25: 0.00\n",
      "Acceptance rate for all other drivers: 0.50\n"
     ]
    },
    {
     "name": "stderr",
     "output_type": "stream",
     "text": [
      "C:\\Users\\jayan\\AppData\\Local\\Temp\\ipykernel_14616\\2971724171.py:15: SettingWithCopyWarning: \n",
      "A value is trying to be set on a copy of a slice from a DataFrame.\n",
      "Try using .loc[row_indexer,col_indexer] = value instead\n",
      "\n",
      "See the caveats in the documentation: https://pandas.pydata.org/pandas-docs/stable/user_guide/indexing.html#returning-a-view-versus-a-copy\n",
      "  drivers_data['age'] = pd.to_numeric(drivers_data['age'], errors='coerce')\n",
      "C:\\Users\\jayan\\AppData\\Local\\Temp\\ipykernel_14616\\2971724171.py:18: FutureWarning: A value is trying to be set on a copy of a DataFrame or Series through chained assignment using an inplace method.\n",
      "The behavior will change in pandas 3.0. This inplace method will never work because the intermediate object on which we are setting values always behaves as a copy.\n",
      "\n",
      "For example, when doing 'df[col].method(value, inplace=True)', try using 'df.method({col: value}, inplace=True)' or df[col] = df[col].method(value) instead, to perform the operation inplace on the original object.\n",
      "\n",
      "\n",
      "  drivers_data['age'].fillna(0, inplace=True)\n",
      "C:\\Users\\jayan\\AppData\\Local\\Temp\\ipykernel_14616\\2971724171.py:18: SettingWithCopyWarning: \n",
      "A value is trying to be set on a copy of a slice from a DataFrame\n",
      "\n",
      "See the caveats in the documentation: https://pandas.pydata.org/pandas-docs/stable/user_guide/indexing.html#returning-a-view-versus-a-copy\n",
      "  drivers_data['age'].fillna(0, inplace=True)\n"
     ]
    }
   ],
   "source": [
    "\n",
    "# drivers data\n",
    "print(bar_coupons['car'].unique())\n",
    "#[nan 'Scooter and motorcycle' 'crossover' 'Mazda5' 'do not drive'  'Car that is too old to install Onstar :D']\n",
    "\n",
    "# Fill all NaN values in the DataFrame with 'unknown'\n",
    "bar_coupons_filled = bar_coupons.fillna('unknown')\n",
    "\n",
    "# Print the first few rows of the modified DataFrame\n",
    "print(bar_coupons_filled.head())\n",
    "\n",
    "# Filter out non-drivers (those who have 'do not drive' in the 'car' column)\n",
    "drivers_data = bar_coupons_filled[~bar_coupons_filled['car'].isin(['unknown', 'do not drive'])]\n",
    "\n",
    "# Convert 'age' column to numeric values, forcing errors to NaN\n",
    "drivers_data['age'] = pd.to_numeric(drivers_data['age'], errors='coerce')\n",
    "\n",
    "# Fill NaN values with a default value (e.g., 'unknown' or 0)\n",
    "drivers_data['age'].fillna(0, inplace=True)\n",
    "\n",
    "# Group 1: Drivers who go to a bar more than once a month and are over the age of 25\n",
    "group_1 = drivers_data[(drivers_data['Bar'].isin(['1~3', '4~8', 'gt8'])) & (drivers_data['age'] > 25)]\n",
    "\n",
    "# Group 2: All other drivers (either go to a bar less frequently or are 25 or younger)\n",
    "group_2 = drivers_data[~((drivers_data['Bar'].isin(['1~3', '4~8', 'gt8'])) & (drivers_data['age'] > 25))]\n",
    "\n",
    "# Calculate acceptance rate for Group 1 (drivers over 25 who go to a bar more than once a month)\n",
    "accepted_group_1 = group_1[group_1['Y'] == 1]\n",
    "acceptance_rate_group_1 = len(accepted_group_1) / len(group_1) if len(group_1) > 0 else 0\n",
    "\n",
    "# Calculate acceptance rate for Group 2 (all other drivers)\n",
    "accepted_group_2 = group_2[group_2['Y'] == 1]\n",
    "acceptance_rate_group_2 = len(accepted_group_2) / len(group_2) if len(group_2) > 0 else 0\n",
    "\n",
    "# Display the results\n",
    "print(f\"Acceptance rate for drivers who go to a bar more than once a month and are over 25: {acceptance_rate_group_1:.2f}\")\n",
    "print(f\"Acceptance rate for all other drivers: {acceptance_rate_group_2:.2f}\")\n",
    "\n"
   ]
  },
  {
   "cell_type": "markdown",
   "metadata": {
    "id": "S4RKT4PJ_qRK"
   },
   "source": [
    " 5. Use the same process to compare the acceptance rate between drivers who go to bars more than once a month and had passengers that were not a kid and had occupations other than farming, fishing, or forestry.\n"
   ]
  },
  {
   "cell_type": "code",
   "execution_count": 114,
   "metadata": {
    "id": "sENaI2Tg_qRK"
   },
   "outputs": [
    {
     "name": "stdout",
     "output_type": "stream",
     "text": [
      "Acceptance rate for drivers who go to a bar more than once a month, have non-kid passengers, and occupations other than farming, fishing, or forestry: 0.62\n",
      "Acceptance rate for all other drivers: 0.56\n"
     ]
    }
   ],
   "source": [
    "# Filter out non-drivers (those who have 'do not drive' in the 'car' column)\n",
    "drivers_data = bar_coupons[~bar_coupons['car'].isin([np.nan, 'do not drive'])]\n",
    "\n",
    "# Group 1: Drivers who go to a bar more than once a month, have passengers who are not kids,\n",
    "# and have occupations other than farming, fishing, or forestry\n",
    "group_1 = drivers_data[\n",
    "    (drivers_data['Bar'].isin(['1~3', '4~8', 'gt8'])) & \n",
    "    (drivers_data['passanger'] != 'kid') & \n",
    "    (~drivers_data['occupation'].isin(['farming', 'fishing', 'forestry']))\n",
    "]\n",
    "\n",
    "# Group 2: All other drivers who do not meet the conditions of Group 1\n",
    "group_2 = drivers_data[~(\n",
    "    (drivers_data['Bar'].isin(['1~3', '4~8', 'gt8'])) & \n",
    "    (drivers_data['passanger'] != 'kid') & \n",
    "    (~drivers_data['occupation'].isin(['farming', 'fishing', 'forestry']))\n",
    ")]\n",
    "\n",
    "# Calculate acceptance rate for Group 1\n",
    "accepted_group_1 = group_1[group_1['Y'] == 1]\n",
    "acceptance_rate_group_1 = len(accepted_group_1) / len(group_1) if len(group_1) > 0 else 0\n",
    "\n",
    "# Calculate acceptance rate for Group 2\n",
    "accepted_group_2 = group_2[group_2['Y'] == 1]\n",
    "acceptance_rate_group_2 = len(accepted_group_2) / len(group_2) if len(group_2) > 0 else 0\n",
    "\n",
    "# Display the results\n",
    "print(f\"Acceptance rate for drivers who go to a bar more than once a month, have non-kid passengers, \"\n",
    "      f\"and occupations other than farming, fishing, or forestry: {acceptance_rate_group_1:.2f}\")\n",
    "print(f\"Acceptance rate for all other drivers: {acceptance_rate_group_2:.2f}\")\n"
   ]
  },
  {
   "cell_type": "markdown",
   "metadata": {
    "id": "n2LIUTil_qRK"
   },
   "source": [
    "6. Compare the acceptance rates between those drivers who:\n",
    "\n",
    "- go to bars more than once a month, had passengers that were not a kid, and were not widowed *OR*\n",
    "- go to bars more than once a month and are under the age of 30 *OR*\n",
    "- go to cheap restaurants more than 4 times a month and income is less than 50K.\n",
    "\n"
   ]
  },
  {
   "cell_type": "code",
   "execution_count": 124,
   "metadata": {
    "id": "aK_wEzx7_qRK"
   },
   "outputs": [
    {
     "name": "stdout",
     "output_type": "stream",
     "text": [
      "Acceptance rate for Group 1 (go to bars > 1/month, not a kid, not widowed): 0.62\n",
      "Acceptance rate for Group 2 (go to bars > 1/month and age < 30): 0.62\n",
      "Acceptance rate for Group 3 (go to cheap restaurants > 4/month and income < 50K): 0.00\n"
     ]
    },
    {
     "name": "stderr",
     "output_type": "stream",
     "text": [
      "C:\\Users\\jayan\\AppData\\Local\\Temp\\ipykernel_14616\\774672784.py:2: SettingWithCopyWarning: \n",
      "A value is trying to be set on a copy of a slice from a DataFrame.\n",
      "Try using .loc[row_indexer,col_indexer] = value instead\n",
      "\n",
      "See the caveats in the documentation: https://pandas.pydata.org/pandas-docs/stable/user_guide/indexing.html#returning-a-view-versus-a-copy\n",
      "  bar_coupons['age'] = bar_coupons['age'].fillna(0)\n",
      "C:\\Users\\jayan\\AppData\\Local\\Temp\\ipykernel_14616\\774672784.py:5: SettingWithCopyWarning: \n",
      "A value is trying to be set on a copy of a slice from a DataFrame.\n",
      "Try using .loc[row_indexer,col_indexer] = value instead\n",
      "\n",
      "See the caveats in the documentation: https://pandas.pydata.org/pandas-docs/stable/user_guide/indexing.html#returning-a-view-versus-a-copy\n",
      "  bar_coupons['income'] = bar_coupons['income'].fillna(0)\n",
      "C:\\Users\\jayan\\AppData\\Local\\Temp\\ipykernel_14616\\774672784.py:6: SettingWithCopyWarning: \n",
      "A value is trying to be set on a copy of a slice from a DataFrame.\n",
      "Try using .loc[row_indexer,col_indexer] = value instead\n",
      "\n",
      "See the caveats in the documentation: https://pandas.pydata.org/pandas-docs/stable/user_guide/indexing.html#returning-a-view-versus-a-copy\n",
      "  bar_coupons['RestaurantLessThan20'] = bar_coupons['RestaurantLessThan20'].fillna(0)\n"
     ]
    }
   ],
   "source": [
    "# Fill missing values in 'age' column with 0\n",
    "bar_coupons['age'] = bar_coupons['age'].fillna(0)\n",
    "\n",
    "# Similarly for other columns:\n",
    "bar_coupons['income'] = bar_coupons['income'].fillna(0)\n",
    "bar_coupons['RestaurantLessThan20'] = bar_coupons['RestaurantLessThan20'].fillna(0)\n",
    "\n",
    "\n",
    "# Group 1: Drivers who go to bars more than once a month, have passengers who are not kids, and are not widowed\n",
    "group_1 = bar_coupons[\n",
    "    (bar_coupons['Bar'].isin(['1~3', '4~8', 'gt8'])) & \n",
    "    (bar_coupons['passanger'] != 'kid') & \n",
    "    (bar_coupons['maritalStatus'] != 'widowed')\n",
    "]\n",
    "\n",
    "# Group 2: Drivers who go to bars more than once a month and are under 30\n",
    "group_2 = bar_coupons[\n",
    "    (bar_coupons['Bar'].isin(['1~3', '4~8', 'gt8'])) & \n",
    "    (bar_coupons['age'] < 30)\n",
    "]\n",
    "\n",
    "# Group 3: Drivers who go to cheap restaurants more than 4 times a month and have income less than 50K\n",
    "group_3 = bar_coupons[\n",
    "    (bar_coupons['RestaurantLessThan20'] > 4) & \n",
    "    (bar_coupons['income'] < 50000)\n",
    "]\n",
    "\n",
    "# Calculate acceptance rate for Group 1\n",
    "accepted_group_1 = group_1[group_1['Y'] == 1]\n",
    "acceptance_rate_group_1 = len(accepted_group_1) / len(group_1) if len(group_1) > 0 else 0\n",
    "\n",
    "# Calculate acceptance rate for Group 2\n",
    "accepted_group_2 = group_2[group_2['Y'] == 1]\n",
    "acceptance_rate_group_2 = len(accepted_group_2) / len(group_2) if len(group_2) > 0 else 0\n",
    "\n",
    "# Calculate acceptance rate for Group 3\n",
    "accepted_group_3 = group_3[group_3['Y'] == 1]\n",
    "acceptance_rate_group_3 = len(accepted_group_3) / len(group_3) if len(group_3) > 0 else 0\n",
    "\n",
    "# Display the results\n",
    "print(f\"Acceptance rate for Group 1 (go to bars > 1/month, not a kid, not widowed): {acceptance_rate_group_1:.2f}\")\n",
    "print(f\"Acceptance rate for Group 2 (go to bars > 1/month and age < 30): {acceptance_rate_group_2:.2f}\")\n",
    "print(f\"Acceptance rate for Group 3 (go to cheap restaurants > 4/month and income < 50K): {acceptance_rate_group_3:.2f}\")\n"
   ]
  },
  {
   "cell_type": "markdown",
   "metadata": {
    "id": "v3fL3QkO_qRK"
   },
   "source": [
    "7.  Based on these observations, what do you hypothesize about drivers who accepted the bar coupons?"
   ]
  },
  {
   "cell_type": "code",
   "execution_count": null,
   "metadata": {
    "id": "Y48naDFh_qRL"
   },
   "outputs": [],
   "source": [
    " drivers are more likely to accept bar coupons lies in their lifestyle choices, including their social habits (e.g., visiting bars and restaurants), age, income level, and passenger type. Drivers who are frequent bar-goers, young, socially active, and have higher income levels are likely to be more receptive to bar-related coupons. Additionally, those without children and who engage in more social activities (like dining out) might be more open to accepting such offers."
   ]
  },
  {
   "cell_type": "markdown",
   "metadata": {
    "id": "r4Hu1zOb_qRL"
   },
   "source": [
    "### Independent Investigation\n",
    "\n",
    "Using the bar coupon example as motivation, you are to explore one of the other coupon groups and try to determine the characteristics of passengers who accept the coupons.  "
   ]
  },
  {
   "cell_type": "code",
   "execution_count": 148,
   "metadata": {
    "id": "0c71cQhu_qRL"
   },
   "outputs": [
    {
     "name": "stdout",
     "output_type": "stream",
     "text": [
      "['1~3' 'less1' 'gt8' 'never' '4~8']\n"
     ]
    }
   ],
   "source": [
    "#Let's filter the dataset for individuals who received CoffeeHouse coupons.\n",
    "# Filter for CoffeeHouse coupons\n",
    "\n",
    "# Check the unique values in the 'CoffeeHouse' column\n",
    "print(coffeehouse_coupons['CoffeeHouse'].unique())\n",
    "\n",
    "coffeehouse_coupons = bar_coupons[bar_coupons['CoffeeHouse'].notna()]\n"
   ]
  },
  {
   "cell_type": "code",
   "execution_count": 132,
   "metadata": {},
   "outputs": [
    {
     "name": "stderr",
     "output_type": "stream",
     "text": [
      "C:\\Users\\jayan\\AppData\\Local\\Temp\\ipykernel_14616\\1393899879.py:2: SettingWithCopyWarning: \n",
      "A value is trying to be set on a copy of a slice from a DataFrame.\n",
      "Try using .loc[row_indexer,col_indexer] = value instead\n",
      "\n",
      "See the caveats in the documentation: https://pandas.pydata.org/pandas-docs/stable/user_guide/indexing.html#returning-a-view-versus-a-copy\n",
      "  coffeehouse_coupons['age'] = coffeehouse_coupons['age'].fillna(0)\n",
      "C:\\Users\\jayan\\AppData\\Local\\Temp\\ipykernel_14616\\1393899879.py:3: SettingWithCopyWarning: \n",
      "A value is trying to be set on a copy of a slice from a DataFrame.\n",
      "Try using .loc[row_indexer,col_indexer] = value instead\n",
      "\n",
      "See the caveats in the documentation: https://pandas.pydata.org/pandas-docs/stable/user_guide/indexing.html#returning-a-view-versus-a-copy\n",
      "  coffeehouse_coupons['income'] = coffeehouse_coupons['income'].fillna(0)\n",
      "C:\\Users\\jayan\\AppData\\Local\\Temp\\ipykernel_14616\\1393899879.py:4: SettingWithCopyWarning: \n",
      "A value is trying to be set on a copy of a slice from a DataFrame.\n",
      "Try using .loc[row_indexer,col_indexer] = value instead\n",
      "\n",
      "See the caveats in the documentation: https://pandas.pydata.org/pandas-docs/stable/user_guide/indexing.html#returning-a-view-versus-a-copy\n",
      "  coffeehouse_coupons['CoffeeHouse'] = coffeehouse_coupons['CoffeeHouse'].fillna('Unknown')\n",
      "C:\\Users\\jayan\\AppData\\Local\\Temp\\ipykernel_14616\\1393899879.py:7: SettingWithCopyWarning: \n",
      "A value is trying to be set on a copy of a slice from a DataFrame.\n",
      "Try using .loc[row_indexer,col_indexer] = value instead\n",
      "\n",
      "See the caveats in the documentation: https://pandas.pydata.org/pandas-docs/stable/user_guide/indexing.html#returning-a-view-versus-a-copy\n",
      "  coffeehouse_coupons['age'] = pd.to_numeric(coffeehouse_coupons['age'], errors='coerce')\n",
      "C:\\Users\\jayan\\AppData\\Local\\Temp\\ipykernel_14616\\1393899879.py:8: SettingWithCopyWarning: \n",
      "A value is trying to be set on a copy of a slice from a DataFrame.\n",
      "Try using .loc[row_indexer,col_indexer] = value instead\n",
      "\n",
      "See the caveats in the documentation: https://pandas.pydata.org/pandas-docs/stable/user_guide/indexing.html#returning-a-view-versus-a-copy\n",
      "  coffeehouse_coupons['income'] = pd.to_numeric(coffeehouse_coupons['income'], errors='coerce')\n"
     ]
    }
   ],
   "source": [
    "# Fill missing values with 'Unknown' or 0 as appropriate\n",
    "coffeehouse_coupons['age'] = coffeehouse_coupons['age'].fillna(0)\n",
    "coffeehouse_coupons['income'] = coffeehouse_coupons['income'].fillna(0)\n",
    "coffeehouse_coupons['CoffeeHouse'] = coffeehouse_coupons['CoffeeHouse'].fillna('Unknown')\n",
    "\n",
    "# Convert 'age' and 'income' to numeric if needed\n",
    "coffeehouse_coupons['age'] = pd.to_numeric(coffeehouse_coupons['age'], errors='coerce')\n",
    "coffeehouse_coupons['income'] = pd.to_numeric(coffeehouse_coupons['income'], errors='coerce')\n"
   ]
  },
  {
   "cell_type": "code",
   "execution_count": 150,
   "metadata": {
    "id": "QEsBkvIN_qRL"
   },
   "outputs": [
    {
     "name": "stdout",
     "output_type": "stream",
     "text": [
      "Acceptance rate for CoffeeHouse coupons: 0.59\n"
     ]
    }
   ],
   "source": [
    "# Calculate the Acceptance Rate for CoffeeHouse Coupon\n",
    "# Filter for passengers who accepted the CoffeeHouse coupon (Y == 1)\n",
    "accepted_coffeehouse = coffeehouse_coupons[coffeehouse_coupons['Y'] == 1]\n",
    "\n",
    "# Calculate the acceptance rate\n",
    "acceptance_rate_coffeehouse = len(accepted_coffeehouse) / len(coffeehouse_coupons)\n",
    "print(f\"Acceptance rate for CoffeeHouse coupons: {acceptance_rate_coffeehouse:.2f}\")\n"
   ]
  },
  {
   "cell_type": "code",
   "execution_count": 152,
   "metadata": {
    "id": "fTC2WGE3_qRL"
   },
   "outputs": [
    {
     "data": {
      "image/png": "[encoded data removed]",
      "text/plain": [
       "<Figure size 640x480 with 1 Axes>"
      ]
     },
     "metadata": {},
     "output_type": "display_data"
    }
   ],
   "source": [
    "#Analyze Age and Acceptance Rate -- We can explore if younger or older passengers are more likely to accept CoffeeHouse coupons.\n",
    "\n",
    "\n",
    "# Plot the distribution of age for those who accepted vs. those who didn't\n",
    "sns.histplot(data=coffeehouse_coupons, x='age', hue='Y', multiple='stack', kde=True)\n",
    "plt.title('Age Distribution for CoffeeHouse Coupon Acceptance')\n",
    "plt.xlabel('Age')\n",
    "plt.ylabel('Count')\n",
    "plt.show()\n"
   ]
  },
  {
   "cell_type": "code",
   "execution_count": 140,
   "metadata": {
    "id": "_oykf8YP_qRL"
   },
   "outputs": [
    {
     "data": {
      "image/png": "[encoded data removed]",
      "text/plain": [
       "<Figure size 640x480 with 1 Axes>"
      ]
     },
     "metadata": {},
     "output_type": "display_data"
    }
   ],
   "source": [
    "#Marital Status and Coupon Acceptance\n",
    "# Count the number of acceptances by marital status\n",
    "marital_status_counts = coffeehouse_coupons.groupby(['maritalStatus', 'Y']).size().unstack().fillna(0)\n",
    "marital_status_counts['acceptance_rate'] = marital_status_counts[1] / (marital_status_counts[0] + marital_status_counts[1])\n",
    "\n",
    "# Plot marital status vs acceptance rate\n",
    "marital_status_counts['acceptance_rate'].plot(kind='bar', title='Acceptance Rate by Marital Status')\n",
    "plt.xlabel('Marital Status')\n",
    "plt.ylabel('Acceptance Rate')\n",
    "plt.show()\n"
   ]
  },
  {
   "cell_type": "code",
   "execution_count": null,
   "metadata": {},
   "outputs": [],
   "source": []
  }
 ],
 "metadata": {
  "colab": {
   "provenance": []
  },
  "kernelspec": {
   "display_name": "Python [conda env:base] *",
   "language": "python",
   "name": "conda-base-py"
  },
  "language_info": {
   "codemirror_mode": {
    "name": "ipython",
    "version": 3
   },
   "file_extension": ".py",
   "mimetype": "text/x-python",
   "name": "python",
   "nbconvert_exporter": "python",
   "pygments_lexer": "ipython3",
   "version": "3.12.7"
  }
 },
 "nbformat": 4,
 "nbformat_minor": 4
}
